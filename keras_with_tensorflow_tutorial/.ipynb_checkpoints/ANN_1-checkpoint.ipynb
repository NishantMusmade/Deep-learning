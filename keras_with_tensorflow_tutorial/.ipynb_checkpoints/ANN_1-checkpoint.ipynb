{
 "cells": [
  {
   "cell_type": "code",
   "execution_count": 150,
   "metadata": {},
   "outputs": [],
   "source": [
    "import tensorflow as tf\n",
    "from random import randint\n",
    "from sklearn.utils import shuffle\n",
    "from sklearn.preprocessing import MinMaxScaler\n",
    "import numpy as np"
   ]
  },
  {
   "cell_type": "code",
   "execution_count": 151,
   "metadata": {},
   "outputs": [],
   "source": [
    "train_samples = []\n",
    "train_labels = []"
   ]
  },
  {
   "cell_type": "code",
   "execution_count": 152,
   "metadata": {},
   "outputs": [],
   "source": [
    "for i in range(50):\n",
    "    #5% younger having side effects of drug\n",
    "    random_younger = randint(13,64)\n",
    "    train_samples.append(random_younger)\n",
    "    train_labels.append(1)\n",
    "\n",
    "    #5% older having no side effects of drug\n",
    "    train_samples.append(randint(65,100))\n",
    "    train_labels.append(0)\n",
    "\n",
    "for i in range(950):\n",
    "    #95% younger having no side effects of drug\n",
    "    train_samples.append(randint(13,64))\n",
    "    train_labels.append(0)\n",
    "\n",
    "    #95% older having side effects of drug\n",
    "    train_samples.append(randint(65,100))\n",
    "    train_labels.append(1)\n",
    "    \n"
   ]
  },
  {
   "cell_type": "code",
   "execution_count": 153,
   "metadata": {},
   "outputs": [],
   "source": [
    "test_samples = []\n",
    "test_labels = []"
   ]
  },
  {
   "cell_type": "code",
   "execution_count": 154,
   "metadata": {},
   "outputs": [],
   "source": [
    "for i in range(10):\n",
    "    #5% younger having side effects of drug\n",
    "    random_younger = randint(13,64)\n",
    "    test_samples.append(random_younger)\n",
    "    test_labels.append(1)\n",
    "\n",
    "    #5% older having no side effects of drug\n",
    "    test_samples.append(randint(65,100))\n",
    "    test_labels.append(0)\n",
    "\n",
    "for i in range(150):\n",
    "    #95% younger having no side effects of drug\n",
    "    test_samples.append(randint(13,64))\n",
    "    test_labels.append(0)\n",
    "\n",
    "    #95% older having side effects of drug\n",
    "    test_samples.append(randint(65,100))\n",
    "    test_labels.append(1)\n",
    "    \n"
   ]
  },
  {
   "cell_type": "code",
   "execution_count": 155,
   "metadata": {},
   "outputs": [
    {
     "name": "stdout",
     "output_type": "stream",
     "text": [
      "Length of training samples =  2000\n"
     ]
    }
   ],
   "source": [
    "print('Length of training samples = ',len(train_samples))\n"
   ]
  },
  {
   "cell_type": "code",
   "execution_count": 156,
   "metadata": {},
   "outputs": [
    {
     "name": "stdout",
     "output_type": "stream",
     "text": [
      "33\n",
      "98\n",
      "45\n",
      "99\n",
      "41\n",
      "80\n",
      "18\n",
      "73\n",
      "64\n",
      "98\n"
     ]
    }
   ],
   "source": [
    "for i in range(10):\n",
    "    print(train_samples[i])"
   ]
  },
  {
   "cell_type": "code",
   "execution_count": 157,
   "metadata": {},
   "outputs": [
    {
     "name": "stdout",
     "output_type": "stream",
     "text": [
      "1\n",
      "0\n",
      "1\n",
      "0\n",
      "1\n",
      "0\n",
      "1\n",
      "0\n",
      "1\n",
      "0\n"
     ]
    }
   ],
   "source": [
    "for i in range(10):\n",
    "    print(train_labels[i])"
   ]
  },
  {
   "cell_type": "code",
   "execution_count": 158,
   "metadata": {},
   "outputs": [],
   "source": [
    "#converting list of training samples to numpy array \n",
    "train_labels=np.array(train_labels)\n",
    "train_samples=np.array(train_samples)\n",
    "train_labels, train_samples = shuffle(train_labels,train_samples)"
   ]
  },
  {
   "cell_type": "code",
   "execution_count": 159,
   "metadata": {},
   "outputs": [],
   "source": [
    "#scaling training_samples\n",
    "scaler = MinMaxScaler(feature_range = (0,1))\n",
    "scaled_train_samples = scaler.fit_transform(train_samples.reshape(-1,1))"
   ]
  },
  {
   "cell_type": "code",
   "execution_count": 160,
   "metadata": {},
   "outputs": [],
   "source": [
    "#converting list of testing samples to numpy array \n",
    "test_labels=np.array(test_labels)\n",
    "test_samples=np.array(test_samples)\n",
    "test_labels, test_samples = shuffle(test_labels,test_samples)"
   ]
  },
  {
   "cell_type": "code",
   "execution_count": 161,
   "metadata": {},
   "outputs": [],
   "source": [
    "#scaling testing samples\n",
    "scaler = MinMaxScaler(feature_range = (0,1))\n",
    "scaled_test_samples = scaler.fit_transform(test_samples.reshape(-1,1))"
   ]
  },
  {
   "cell_type": "code",
   "execution_count": 162,
   "metadata": {},
   "outputs": [
    {
     "name": "stdout",
     "output_type": "stream",
     "text": [
      "[0.4137931]\n",
      "[0.45977011]\n",
      "[0.01149425]\n",
      "[0.18390805]\n",
      "[0.95402299]\n",
      "[0.86206897]\n",
      "[0.45977011]\n",
      "[0.85057471]\n",
      "[0.98850575]\n",
      "[0.50574713]\n"
     ]
    }
   ],
   "source": [
    "for i in range(10):\n",
    "    print(scaled_train_samples[i])"
   ]
  },
  {
   "cell_type": "code",
   "execution_count": 163,
   "metadata": {},
   "outputs": [],
   "source": [
    "from tensorflow.keras.models import Sequential\n",
    "from tensorflow.keras.layers import Activation,Dense\n",
    "from tensorflow.keras.optimizers import Adam\n",
    "from tensorflow.keras.metrics import categorical_crossentropy"
   ]
  },
  {
   "cell_type": "code",
   "execution_count": 164,
   "metadata": {},
   "outputs": [
    {
     "name": "stdout",
     "output_type": "stream",
     "text": [
      "1\n"
     ]
    }
   ],
   "source": [
    "physical_devices = tf.config.experimental.list_physical_devices('GPU')\n",
    "print(len(physical_devices))\n",
    "tf.config.experimental.set_memory_growth(physical_devices[0],True)"
   ]
  },
  {
   "cell_type": "code",
   "execution_count": 165,
   "metadata": {},
   "outputs": [],
   "source": [
    "model = Sequential([\n",
    "    Dense(units = 32, input_shape=(1,), activation = 'relu'),\n",
    "    Dense(units = 16, activation = 'relu'),\n",
    "    # Dense(units = 32, activation = 'relu'),\n",
    "    Dense(units =2 ,activation='sigmoid' )\n",
    "])"
   ]
  },
  {
   "cell_type": "code",
   "execution_count": 166,
   "metadata": {},
   "outputs": [
    {
     "name": "stdout",
     "output_type": "stream",
     "text": [
      "Model: \"sequential_5\"\n",
      "_________________________________________________________________\n",
      " Layer (type)                Output Shape              Param #   \n",
      "=================================================================\n",
      " dense_14 (Dense)            (None, 32)                64        \n",
      "                                                                 \n",
      " dense_15 (Dense)            (None, 16)                528       \n",
      "                                                                 \n",
      " dense_16 (Dense)            (None, 2)                 34        \n",
      "                                                                 \n",
      "=================================================================\n",
      "Total params: 626\n",
      "Trainable params: 626\n",
      "Non-trainable params: 0\n",
      "_________________________________________________________________\n"
     ]
    }
   ],
   "source": [
    "model.summary()"
   ]
  },
  {
   "cell_type": "code",
   "execution_count": 167,
   "metadata": {},
   "outputs": [],
   "source": [
    "model.compile(optimizer = Adam(learning_rate = 0.001), loss = 'sparse_categorical_crossentropy', metrics =['Accuracy'])"
   ]
  },
  {
   "cell_type": "code",
   "execution_count": 168,
   "metadata": {},
   "outputs": [
    {
     "name": "stdout",
     "output_type": "stream",
     "text": [
      "Epoch 1/20\n",
      "90/90 [==============================] - 1s 9ms/step - loss: 0.6206 - Accuracy: 0.6444 - val_loss: 0.5368 - val_Accuracy: 0.7750\n",
      "Epoch 2/20\n",
      "90/90 [==============================] - 1s 7ms/step - loss: 0.4821 - Accuracy: 0.8311 - val_loss: 0.4034 - val_Accuracy: 0.9050\n",
      "Epoch 3/20\n",
      "90/90 [==============================] - 1s 7ms/step - loss: 0.3649 - Accuracy: 0.9033 - val_loss: 0.3186 - val_Accuracy: 0.9350\n",
      "Epoch 4/20\n",
      "90/90 [==============================] - 1s 7ms/step - loss: 0.3060 - Accuracy: 0.9272 - val_loss: 0.2828 - val_Accuracy: 0.9200\n",
      "Epoch 5/20\n",
      "90/90 [==============================] - 1s 7ms/step - loss: 0.2847 - Accuracy: 0.9378 - val_loss: 0.2709 - val_Accuracy: 0.9200\n",
      "Epoch 6/20\n",
      "90/90 [==============================] - 1s 7ms/step - loss: 0.2757 - Accuracy: 0.9344 - val_loss: 0.2667 - val_Accuracy: 0.9350\n",
      "Epoch 7/20\n",
      "90/90 [==============================] - 1s 7ms/step - loss: 0.2690 - Accuracy: 0.9389 - val_loss: 0.2672 - val_Accuracy: 0.9350\n",
      "Epoch 8/20\n",
      "90/90 [==============================] - 1s 7ms/step - loss: 0.2659 - Accuracy: 0.9389 - val_loss: 0.2678 - val_Accuracy: 0.9400\n",
      "Epoch 9/20\n",
      "90/90 [==============================] - 1s 7ms/step - loss: 0.2624 - Accuracy: 0.9383 - val_loss: 0.2777 - val_Accuracy: 0.9200\n",
      "Epoch 10/20\n",
      "90/90 [==============================] - 1s 7ms/step - loss: 0.2602 - Accuracy: 0.9400 - val_loss: 0.2691 - val_Accuracy: 0.9400\n",
      "Epoch 11/20\n",
      "90/90 [==============================] - 1s 7ms/step - loss: 0.2591 - Accuracy: 0.9422 - val_loss: 0.2602 - val_Accuracy: 0.9350\n",
      "Epoch 12/20\n",
      "90/90 [==============================] - 1s 7ms/step - loss: 0.2563 - Accuracy: 0.9383 - val_loss: 0.2581 - val_Accuracy: 0.9350\n",
      "Epoch 13/20\n",
      "90/90 [==============================] - 1s 7ms/step - loss: 0.2569 - Accuracy: 0.9400 - val_loss: 0.2564 - val_Accuracy: 0.9350\n",
      "Epoch 14/20\n",
      "90/90 [==============================] - 1s 7ms/step - loss: 0.2550 - Accuracy: 0.9422 - val_loss: 0.2579 - val_Accuracy: 0.9350\n",
      "Epoch 15/20\n",
      "90/90 [==============================] - 1s 7ms/step - loss: 0.2537 - Accuracy: 0.9450 - val_loss: 0.2587 - val_Accuracy: 0.9350\n",
      "Epoch 16/20\n",
      "90/90 [==============================] - 1s 7ms/step - loss: 0.2530 - Accuracy: 0.9422 - val_loss: 0.2575 - val_Accuracy: 0.9350\n",
      "Epoch 17/20\n",
      "90/90 [==============================] - 1s 7ms/step - loss: 0.2524 - Accuracy: 0.9428 - val_loss: 0.2550 - val_Accuracy: 0.9350\n",
      "Epoch 18/20\n",
      "90/90 [==============================] - 1s 7ms/step - loss: 0.2516 - Accuracy: 0.9411 - val_loss: 0.2558 - val_Accuracy: 0.9350\n",
      "Epoch 19/20\n",
      "90/90 [==============================] - 1s 7ms/step - loss: 0.2513 - Accuracy: 0.9439 - val_loss: 0.2593 - val_Accuracy: 0.9400\n",
      "Epoch 20/20\n",
      "90/90 [==============================] - 1s 7ms/step - loss: 0.2496 - Accuracy: 0.9422 - val_loss: 0.2548 - val_Accuracy: 0.9350\n"
     ]
    }
   ],
   "source": [
    "model_history = model.fit(x=scaled_train_samples, y= train_labels,validation_split = 0.1,  batch_size = 20, epochs = 20, shuffle=True)"
   ]
  },
  {
   "cell_type": "code",
   "execution_count": 169,
   "metadata": {},
   "outputs": [
    {
     "name": "stdout",
     "output_type": "stream",
     "text": [
      "64/64 [==============================] - 0s 3ms/step\n"
     ]
    }
   ],
   "source": [
    "predictions = model.predict(x=scaled_test_samples, batch_size = 5)"
   ]
  },
  {
   "cell_type": "code",
   "execution_count": 170,
   "metadata": {},
   "outputs": [
    {
     "data": {
      "text/plain": [
       "numpy.ndarray"
      ]
     },
     "execution_count": 170,
     "metadata": {},
     "output_type": "execute_result"
    }
   ],
   "source": [
    "type(predictions)"
   ]
  },
  {
   "cell_type": "code",
   "execution_count": 171,
   "metadata": {},
   "outputs": [
    {
     "name": "stdout",
     "output_type": "stream",
     "text": [
      "[0.13607235 0.90554994]\n",
      "[0.18188594 0.8633253 ]\n",
      "[0.18188594 0.8633253 ]\n",
      "[0.82959884 0.17863104]\n",
      "[0.3069273  0.73277605]\n",
      "[0.43966252 0.5934716 ]\n",
      "[0.5418628  0.48870993]\n",
      "[0.40713045 0.6262123 ]\n",
      "[0.10976657 0.9280154 ]\n",
      "[0.43966252 0.5934716 ]\n"
     ]
    }
   ],
   "source": [
    "for i in range(10):\n",
    "    print(predictions[i])"
   ]
  },
  {
   "cell_type": "code",
   "execution_count": 172,
   "metadata": {},
   "outputs": [
    {
     "name": "stdout",
     "output_type": "stream",
     "text": [
      "1\n",
      "1\n",
      "1\n",
      "0\n",
      "1\n",
      "1\n",
      "0\n",
      "1\n",
      "1\n",
      "1\n"
     ]
    }
   ],
   "source": [
    "rounded_predictions = np.argmax(predictions, axis = 1)\n",
    "for i in range(10):\n",
    "    print(rounded_predictions[i])"
   ]
  },
  {
   "cell_type": "code",
   "execution_count": 173,
   "metadata": {},
   "outputs": [],
   "source": [
    "from sklearn.metrics import confusion_matrix\n",
    "cm = confusion_matrix(rounded_predictions,test_labels)"
   ]
  },
  {
   "cell_type": "code",
   "execution_count": 174,
   "metadata": {},
   "outputs": [
    {
     "data": {
      "text/plain": [
       "Text(70.58159722222221, 0.5, 'Truth values')"
      ]
     },
     "execution_count": 174,
     "metadata": {},
     "output_type": "execute_result"
    },
    {
     "data": {
      "image/png": "[encoded data removed]",
      "text/plain": [
       "<Figure size 800x400 with 2 Axes>"
      ]
     },
     "metadata": {},
     "output_type": "display_data"
    }
   ],
   "source": [
    "import matplotlib.pyplot as plt\n",
    "import seaborn as sn \n",
    "plt.figure(figsize=(8,4))\n",
    "sn.heatmap(cm,annot=True, xticklabels=['No_side_effects', 'Side_effects'], yticklabels=['No_side_effects', 'Side_effects'])\n",
    "plt.xlabel('Predicted values')\n",
    "plt.ylabel('Truth values')\n",
    "\n"
   ]
  },
  {
   "cell_type": "code",
   "execution_count": 175,
   "metadata": {},
   "outputs": [],
   "source": [
    "#checking if file exists already\n",
    "#if not then model will be saved\n",
    "import os.path\n",
    "if os.path.isfile('models_save_method/side_effects_model.h5')is False:\n",
    "    model.save('models_save_method/side_effects_model.h5')\n",
    "\n",
    "    "
   ]
  },
  {
   "cell_type": "markdown",
   "metadata": {},
   "source": [
    "This save function saves:\n",
    "1] The architecture of the model, allowing to re-create the model\n",
    "2] The weights of the model\n",
    "3] The training configuration (loss,optimizer)\n",
    "4] The state of the optimizer to resume training exactly where you left\n"
   ]
  },
  {
   "cell_type": "code",
   "execution_count": 176,
   "metadata": {},
   "outputs": [],
   "source": [
    "from tensorflow.keras.models import load_model\n",
    "new_model = load_model('models_save_method/side_effects_model.h5')"
   ]
  },
  {
   "cell_type": "code",
   "execution_count": 177,
   "metadata": {},
   "outputs": [
    {
     "name": "stdout",
     "output_type": "stream",
     "text": [
      "Model: \"sequential_4\"\n",
      "_________________________________________________________________\n",
      " Layer (type)                Output Shape              Param #   \n",
      "=================================================================\n",
      " dense_11 (Dense)            (None, 32)                64        \n",
      "                                                                 \n",
      " dense_12 (Dense)            (None, 16)                528       \n",
      "                                                                 \n",
      " dense_13 (Dense)            (None, 2)                 34        \n",
      "                                                                 \n",
      "=================================================================\n",
      "Total params: 626\n",
      "Trainable params: 626\n",
      "Non-trainable params: 0\n",
      "_________________________________________________________________\n"
     ]
    }
   ],
   "source": [
    "new_model.summary()"
   ]
  },
  {
   "cell_type": "code",
   "execution_count": 178,
   "metadata": {},
   "outputs": [
    {
     "data": {
      "text/plain": [
       "[array([[-0.16433766,  0.3875709 , -0.03230194,  0.4231109 , -0.13090369,\n",
       "         -0.42043987,  0.642106  , -0.258219  , -0.06054056,  0.0042047 ,\n",
       "          0.64897954, -0.14078309, -0.04338986, -0.10697782, -0.14390543,\n",
       "         -0.01767486, -0.38006115, -0.1576299 ,  0.47708204, -0.30191284,\n",
       "         -0.39756978, -0.26439607, -0.22554137,  0.18419713,  0.42760155,\n",
       "         -0.37246445, -0.41268682,  0.407107  ,  0.57729423,  0.5783838 ,\n",
       "         -0.11504319,  0.31321222]], dtype=float32),\n",
       " array([ 0.        , -0.09870134,  0.26102132, -0.21306084,  0.        ,\n",
       "         0.        , -0.23645215,  0.        ,  0.        , -0.01740911,\n",
       "        -0.21749574,  0.23721145,  0.        ,  0.        ,  0.        ,\n",
       "         0.        ,  0.        ,  0.        , -0.24649608,  0.        ,\n",
       "         0.        ,  0.        ,  0.        ,  0.09557538, -0.09240447,\n",
       "         0.        ,  0.        , -0.2098232 , -0.2897878 , -0.218002  ,\n",
       "         0.        , -0.15966667], dtype=float32),\n",
       " array([[ 0.11052936,  0.29154864,  0.27640626, -0.1638608 ,  0.02332574,\n",
       "         -0.09423885, -0.2550663 , -0.31736946, -0.07656929,  0.04288533,\n",
       "          0.18112347,  0.19045374, -0.03240883,  0.30740175,  0.28695872,\n",
       "         -0.066838  ],\n",
       "        [ 0.44954097,  0.4202677 ,  0.05897664, -0.18744448,  0.3423638 ,\n",
       "          0.12809703, -0.1670792 ,  0.443165  ,  0.52534646,  0.05662384,\n",
       "         -0.21070525, -0.15861924, -0.34170035, -0.05326653,  0.25577554,\n",
       "          0.02439836],\n",
       "        [-0.26063162, -0.03147244,  0.29514465, -0.26290917, -0.00582038,\n",
       "         -0.02240705,  0.33512765,  0.15151626,  0.15224087, -0.18606392,\n",
       "          0.30666867, -0.12582469,  0.2880314 , -0.26329035, -0.23182556,\n",
       "          0.43706122],\n",
       "        [ 0.55652106,  0.5885452 , -0.64771783, -0.12847692,  0.52875453,\n",
       "         -0.16521151, -0.37271804,  0.10931647,  0.5736962 , -0.6225754 ,\n",
       "         -0.65922326, -0.20905241,  0.07328013,  0.24929938, -0.10362104,\n",
       "         -0.23804368],\n",
       "        [ 0.28364882, -0.30190283,  0.33086458, -0.2779089 ,  0.31321213,\n",
       "         -0.22260945, -0.10342988, -0.16224277, -0.16267394,  0.2122533 ,\n",
       "         -0.07967946,  0.17976096, -0.315375  , -0.27809966,  0.09685749,\n",
       "          0.02413481],\n",
       "        [-0.07979435, -0.25566083, -0.07778227,  0.3190576 , -0.329923  ,\n",
       "         -0.30207616,  0.18189815, -0.13682139,  0.03690487,  0.03364044,\n",
       "         -0.18714996,  0.15513918, -0.20625554,  0.09130189, -0.06690139,\n",
       "         -0.16640612],\n",
       "        [ 0.19564173,  0.4069839 , -0.5164783 ,  0.20028207,  0.1713371 ,\n",
       "         -0.54269993, -0.16416915,  0.22955713,  0.45365816, -0.17917617,\n",
       "         -0.2689289 ,  0.11709338, -0.14116472, -0.02768147,  0.19508246,\n",
       "         -0.41934183],\n",
       "        [ 0.30032352,  0.2625729 , -0.1501672 ,  0.21280113,  0.31847724,\n",
       "          0.17200711,  0.05548522,  0.16112342, -0.07505149, -0.08548787,\n",
       "         -0.2797063 ,  0.18319693, -0.0874595 , -0.20302078,  0.19688258,\n",
       "          0.01158643],\n",
       "        [-0.18585496,  0.26256457,  0.09645408,  0.06213295, -0.12666805,\n",
       "         -0.30560225,  0.23999098,  0.21344039,  0.3308868 ,  0.00949341,\n",
       "         -0.02312428, -0.32888955,  0.23613343, -0.18195157, -0.09551555,\n",
       "          0.18738112],\n",
       "        [ 0.12793235, -0.25378346, -0.17887552, -0.19147566, -0.30513713,\n",
       "         -0.02436566,  0.02259064, -0.12630226, -0.14038603,  0.10832216,\n",
       "         -0.24173   ,  0.25712904,  0.2791154 , -0.1739193 ,  0.11232863,\n",
       "          0.04423523],\n",
       "        [-0.06428289,  0.5785767 , -0.32801268,  0.03249362,  0.46650776,\n",
       "          0.10493442, -0.32720777,  0.3759325 ,  0.37814894, -0.17734438,\n",
       "         -0.18794626,  0.13333392, -0.04472986,  0.01328343, -0.1493504 ,\n",
       "         -0.58024484],\n",
       "        [ 0.18884034, -0.44505164,  0.07831789, -0.22522138, -0.41126388,\n",
       "          0.12200334,  0.34173828, -0.09181556, -0.1500826 ,  0.5177898 ,\n",
       "          0.5308097 ,  0.05211499, -0.22170308,  0.20285293,  0.33690906,\n",
       "          0.5496612 ],\n",
       "        [-0.18694218, -0.3090656 , -0.31557125,  0.05021182,  0.33336595,\n",
       "         -0.09269112,  0.26133272, -0.2390092 , -0.25911173,  0.311749  ,\n",
       "         -0.31956556, -0.26445335, -0.34613192, -0.25719196,  0.23462436,\n",
       "          0.19229564],\n",
       "        [-0.31894678, -0.12745713,  0.11485851, -0.34621504, -0.22518487,\n",
       "         -0.23363675,  0.3297533 ,  0.10739607, -0.2071634 ,  0.1923149 ,\n",
       "         -0.09348187,  0.35208222,  0.11849433, -0.26551098, -0.04233137,\n",
       "         -0.32490396],\n",
       "        [-0.05772465, -0.00228688,  0.1353541 , -0.16732004, -0.1980901 ,\n",
       "          0.08495539,  0.16875497, -0.07614392, -0.16301364,  0.2126815 ,\n",
       "         -0.12879083, -0.18233477, -0.03755325, -0.15889986, -0.27641824,\n",
       "          0.3533651 ],\n",
       "        [ 0.07202002,  0.03457189, -0.17911331,  0.03706959,  0.30595347,\n",
       "         -0.2464322 ,  0.21627733,  0.29533306, -0.18208863, -0.15316409,\n",
       "         -0.03428906, -0.12849958, -0.14101669,  0.27606437, -0.1874427 ,\n",
       "          0.19347522],\n",
       "        [-0.31414044,  0.15255383, -0.06439456,  0.05465358,  0.05632901,\n",
       "         -0.07952935, -0.01624709,  0.27238157,  0.0100956 ,  0.12204075,\n",
       "         -0.25563505,  0.19251254,  0.15642837,  0.0107263 ,  0.3317012 ,\n",
       "         -0.06429586],\n",
       "        [-0.34795797,  0.16278669, -0.01050276, -0.19626346, -0.06118011,\n",
       "          0.32970992, -0.10968287,  0.2855923 , -0.18184215, -0.2398181 ,\n",
       "          0.25346974, -0.24523869,  0.35220256, -0.31811962, -0.04723978,\n",
       "          0.06257322],\n",
       "        [ 0.63162786, -0.00558091, -0.12129897,  0.18861732,  0.25283796,\n",
       "         -0.18072183, -0.74301875,  0.29492846,  0.10719435, -0.22953925,\n",
       "         -0.7197838 , -0.32503125,  0.06758729, -0.13685536, -0.18423502,\n",
       "         -0.8216457 ],\n",
       "        [ 0.16049847,  0.2697862 ,  0.01860303, -0.1064954 ,  0.35016057,\n",
       "         -0.27652243, -0.32585743, -0.21091951,  0.27817526, -0.31761855,\n",
       "         -0.00982973,  0.18158844,  0.2908726 , -0.01324102,  0.3115609 ,\n",
       "         -0.2273739 ],\n",
       "        [ 0.31098935, -0.29896984,  0.16562447, -0.01267946,  0.24914125,\n",
       "          0.309086  ,  0.04069868, -0.18566117, -0.15094851,  0.04181573,\n",
       "          0.22640648,  0.15119162,  0.11442339,  0.03648627, -0.00588387,\n",
       "          0.04911104],\n",
       "        [ 0.33932105,  0.22218564,  0.18008432, -0.15192614, -0.2908179 ,\n",
       "         -0.22451584, -0.31855676,  0.08200359,  0.18142542,  0.07396308,\n",
       "          0.22752497,  0.12266561, -0.11227407,  0.05109775, -0.2732935 ,\n",
       "          0.16915265],\n",
       "        [ 0.03970325, -0.1376286 , -0.07027844, -0.23870963,  0.20549574,\n",
       "          0.02270013,  0.19374594, -0.25256196, -0.35107607,  0.00612351,\n",
       "         -0.3521343 ,  0.24775949,  0.1962333 ,  0.21634683, -0.04361972,\n",
       "         -0.17851971],\n",
       "        [ 0.2970993 ,  0.4175248 ,  0.37148634,  0.20260814,  0.25804785,\n",
       "         -0.12602165,  0.13858841,  0.30211288,  0.1785658 ,  0.13173544,\n",
       "          0.23961607, -0.34757012, -0.29177877, -0.01889047, -0.22830844,\n",
       "         -0.07984275],\n",
       "        [ 0.24270223,  0.38989565,  0.19441052, -0.1773552 ,  0.33549482,\n",
       "         -0.0638288 , -0.35618967,  0.2520339 , -0.04782102,  0.01637803,\n",
       "         -0.24688585, -0.01158988, -0.25836474, -0.07448131, -0.35154644,\n",
       "         -0.0324157 ],\n",
       "        [-0.20788789, -0.2698635 , -0.08221132, -0.18414532,  0.08782998,\n",
       "          0.15160981, -0.02984679, -0.2981012 ,  0.24418435, -0.1727069 ,\n",
       "          0.25122437, -0.06368247,  0.22971627, -0.06998441, -0.32218736,\n",
       "          0.07622114],\n",
       "        [-0.13772671,  0.26632264, -0.34616613, -0.13254155, -0.04865718,\n",
       "         -0.17984237,  0.13200453, -0.20867553,  0.3483462 , -0.31425676,\n",
       "          0.21254203,  0.2857981 ,  0.18898198, -0.3043085 , -0.05408335,\n",
       "         -0.0824286 ],\n",
       "        [ 0.62294835, -0.03523021, -0.6636254 , -0.17969713,  0.09380533,\n",
       "         -0.17543982, -0.4649369 ,  0.17292571,  0.53976846, -0.38725388,\n",
       "         -0.23227593, -0.25579706, -0.263342  ,  0.09734455,  0.0576878 ,\n",
       "         -0.6466995 ],\n",
       "        [ 0.4675545 ,  0.03324743, -0.55034906, -0.22925466,  0.42730993,\n",
       "         -0.15361166, -0.57875544,  0.30380705,  0.5983808 , -0.45367897,\n",
       "         -0.31590772, -0.07554099, -0.3321937 , -0.13475713,  0.3158357 ,\n",
       "         -0.49702793],\n",
       "        [ 0.541106  ,  0.5331496 , -0.5287971 ,  0.07089427,  0.34249714,\n",
       "         -0.00328299, -0.35460553,  0.55411005,  0.3225409 , -0.4379718 ,\n",
       "         -0.27495137,  0.02609277, -0.16099927, -0.22798747, -0.11837202,\n",
       "         -0.11500895],\n",
       "        [ 0.3168144 ,  0.24776188,  0.27536085, -0.03775042,  0.35014513,\n",
       "          0.24290946, -0.1164348 , -0.23781097,  0.14784482, -0.25991994,\n",
       "          0.3109384 ,  0.21440563, -0.2875472 ,  0.2811559 , -0.19957148,\n",
       "         -0.06970862],\n",
       "        [ 0.6503636 ,  0.53865105, -0.56445676, -0.15414788,  0.38799953,\n",
       "         -0.41212973, -0.16526379,  0.63172805,  0.30149046, -0.6283443 ,\n",
       "         -0.8972527 ,  0.05040848, -0.03736261,  0.2237924 ,  0.04615647,\n",
       "         -0.81585896]], dtype=float32),\n",
       " array([-0.14014517, -0.15946805,  0.20517837,  0.        , -0.12988251,\n",
       "         0.15106598,  0.24565017, -0.14046435, -0.18269973,  0.21524754,\n",
       "         0.18187124,  0.        , -0.00584517,  0.        , -0.00600462,\n",
       "         0.24025442], dtype=float32),\n",
       " array([[ 0.00759699,  0.87467813],\n",
       "        [-0.2872842 ,  0.7375008 ],\n",
       "        [ 0.83052963, -0.9999866 ],\n",
       "        [ 0.04487467,  0.27947658],\n",
       "        [-0.8617108 ,  0.3425924 ],\n",
       "        [ 0.03378378, -0.6756456 ],\n",
       "        [ 0.7786521 , -1.0033591 ],\n",
       "        [-0.66334534,  0.5141692 ],\n",
       "        [ 0.17064467,  0.9158275 ],\n",
       "        [ 0.52005523, -0.6558054 ],\n",
       "        [ 0.9488746 , -1.068455  ],\n",
       "        [ 0.3218863 , -0.4501062 ],\n",
       "        [-0.38645384,  0.46721682],\n",
       "        [-0.03835976, -0.19051355],\n",
       "        [ 0.22821154,  0.11935664],\n",
       "        [ 0.08117052, -1.0715953 ]], dtype=float32),\n",
       " array([ 0.06663542, -0.06663543], dtype=float32)]"
      ]
     },
     "execution_count": 178,
     "metadata": {},
     "output_type": "execute_result"
    }
   ],
   "source": [
    "new_model.get_weights()"
   ]
  },
  {
   "cell_type": "code",
   "execution_count": 179,
   "metadata": {},
   "outputs": [
    {
     "data": {
      "text/plain": [
       "<keras.optimizers.optimizer_v2.adam.Adam at 0x172b5231af0>"
      ]
     },
     "execution_count": 179,
     "metadata": {},
     "output_type": "execute_result"
    }
   ],
   "source": [
    "new_model.optimizer"
   ]
  },
  {
   "cell_type": "markdown",
   "metadata": {},
   "source": [
    "Saving model using to_json() function\n",
    "\n",
    "When you want to save the architecture of a model and not its weighs or its training configuration, you can use this function to save the model"
   ]
  },
  {
   "cell_type": "code",
   "execution_count": 180,
   "metadata": {},
   "outputs": [],
   "source": [
    "json_string = model.to_json()\n",
    "\n",
    "#save as YAML\n",
    "#yaml_string = model.to_yaml()"
   ]
  },
  {
   "cell_type": "code",
   "execution_count": 181,
   "metadata": {},
   "outputs": [
    {
     "data": {
      "text/plain": [
       "'{\"class_name\": \"Sequential\", \"config\": {\"name\": \"sequential_5\", \"layers\": [{\"class_name\": \"InputLayer\", \"config\": {\"batch_input_shape\": [null, 1], \"dtype\": \"float32\", \"sparse\": false, \"ragged\": false, \"name\": \"dense_14_input\"}}, {\"class_name\": \"Dense\", \"config\": {\"name\": \"dense_14\", \"trainable\": true, \"batch_input_shape\": [null, 1], \"dtype\": \"float32\", \"units\": 32, \"activation\": \"relu\", \"use_bias\": true, \"kernel_initializer\": {\"class_name\": \"GlorotUniform\", \"config\": {\"seed\": null}}, \"bias_initializer\": {\"class_name\": \"Zeros\", \"config\": {}}, \"kernel_regularizer\": null, \"bias_regularizer\": null, \"activity_regularizer\": null, \"kernel_constraint\": null, \"bias_constraint\": null}}, {\"class_name\": \"Dense\", \"config\": {\"name\": \"dense_15\", \"trainable\": true, \"dtype\": \"float32\", \"units\": 16, \"activation\": \"relu\", \"use_bias\": true, \"kernel_initializer\": {\"class_name\": \"GlorotUniform\", \"config\": {\"seed\": null}}, \"bias_initializer\": {\"class_name\": \"Zeros\", \"config\": {}}, \"kernel_regularizer\": null, \"bias_regularizer\": null, \"activity_regularizer\": null, \"kernel_constraint\": null, \"bias_constraint\": null}}, {\"class_name\": \"Dense\", \"config\": {\"name\": \"dense_16\", \"trainable\": true, \"dtype\": \"float32\", \"units\": 2, \"activation\": \"sigmoid\", \"use_bias\": true, \"kernel_initializer\": {\"class_name\": \"GlorotUniform\", \"config\": {\"seed\": null}}, \"bias_initializer\": {\"class_name\": \"Zeros\", \"config\": {}}, \"kernel_regularizer\": null, \"bias_regularizer\": null, \"activity_regularizer\": null, \"kernel_constraint\": null, \"bias_constraint\": null}}]}, \"keras_version\": \"2.10.0\", \"backend\": \"tensorflow\"}'"
      ]
     },
     "execution_count": 181,
     "metadata": {},
     "output_type": "execute_result"
    }
   ],
   "source": [
    "json_string"
   ]
  },
  {
   "cell_type": "code",
   "execution_count": 182,
   "metadata": {},
   "outputs": [],
   "source": [
    "from tensorflow.keras.models import model_from_json\n",
    "\n",
    "model_architecture = model_from_json(json_string)\n",
    "\n",
    "#model_from_yaml\n",
    "# from tensorflow.keras.models import model_from_yaml\n",
    "# model = model_from_yaml(yaml_string)"
   ]
  },
  {
   "cell_type": "code",
   "execution_count": 183,
   "metadata": {},
   "outputs": [
    {
     "name": "stdout",
     "output_type": "stream",
     "text": [
      "Model: \"sequential_5\"\n",
      "_________________________________________________________________\n",
      " Layer (type)                Output Shape              Param #   \n",
      "=================================================================\n",
      " dense_14 (Dense)            (None, 32)                64        \n",
      "                                                                 \n",
      " dense_15 (Dense)            (None, 16)                528       \n",
      "                                                                 \n",
      " dense_16 (Dense)            (None, 2)                 34        \n",
      "                                                                 \n",
      "=================================================================\n",
      "Total params: 626\n",
      "Trainable params: 626\n",
      "Non-trainable params: 0\n",
      "_________________________________________________________________\n"
     ]
    }
   ],
   "source": [
    "model_architecture.summary()"
   ]
  },
  {
   "cell_type": "code",
   "execution_count": 184,
   "metadata": {},
   "outputs": [
    {
     "data": {
      "text/plain": [
       "[array([[-0.4093938 , -0.25222564,  0.40929383,  0.20885903, -0.23748574,\n",
       "         -0.25385526, -0.24885379,  0.2619064 , -0.3525145 , -0.25170064,\n",
       "          0.18589115, -0.06651938, -0.27368352, -0.35076723,  0.366956  ,\n",
       "          0.2061773 ,  0.08485335, -0.05208024,  0.21328765,  0.18041748,\n",
       "         -0.30120954,  0.1286785 ,  0.30994475, -0.09996924, -0.3609319 ,\n",
       "         -0.06605592, -0.22146209,  0.2880503 , -0.04219687,  0.17597961,\n",
       "         -0.3256941 , -0.07376292]], dtype=float32),\n",
       " array([0., 0., 0., 0., 0., 0., 0., 0., 0., 0., 0., 0., 0., 0., 0., 0., 0.,\n",
       "        0., 0., 0., 0., 0., 0., 0., 0., 0., 0., 0., 0., 0., 0., 0.],\n",
       "       dtype=float32),\n",
       " array([[-0.04767475,  0.32067242, -0.10028648,  0.2895383 , -0.15053092,\n",
       "          0.1348266 ,  0.2511743 , -0.11592676,  0.30143735,  0.24239317,\n",
       "         -0.0722177 , -0.02485812, -0.15947466,  0.17930678, -0.27206886,\n",
       "         -0.24307376],\n",
       "        [-0.2181134 , -0.32389143, -0.01798347,  0.03317875,  0.137263  ,\n",
       "          0.2851272 , -0.1869018 , -0.15362096, -0.34431538,  0.13835266,\n",
       "          0.32188955,  0.17471579, -0.20374317, -0.09583029,  0.0876641 ,\n",
       "         -0.10367298],\n",
       "        [-0.09368107, -0.15542443, -0.18956405, -0.0975166 ,  0.19739828,\n",
       "         -0.24765556, -0.33964247,  0.23012945, -0.12870492, -0.09142822,\n",
       "         -0.28716603,  0.10630977, -0.18934926, -0.16210622,  0.1185424 ,\n",
       "         -0.07637867],\n",
       "        [ 0.14750782, -0.1053151 ,  0.3461347 ,  0.34597692,  0.2559611 ,\n",
       "          0.28056172, -0.17028128, -0.1083678 , -0.03903362, -0.05948091,\n",
       "          0.00267649,  0.22797069, -0.28895602, -0.13883273,  0.15706125,\n",
       "         -0.3431685 ],\n",
       "        [ 0.22463796, -0.20449962,  0.30496886,  0.1723325 , -0.04680181,\n",
       "          0.19089422,  0.3314092 , -0.14883924, -0.345671  , -0.3278981 ,\n",
       "          0.11487308,  0.08537635, -0.15778044,  0.20454606, -0.08120963,\n",
       "          0.04260406],\n",
       "        [ 0.08194098,  0.00089502, -0.00183854,  0.12376204,  0.09557724,\n",
       "         -0.21040119, -0.11305243,  0.04535463,  0.00228789,  0.27403358,\n",
       "          0.22203496,  0.03681663,  0.04785135, -0.05759418,  0.21497145,\n",
       "         -0.19908409],\n",
       "        [ 0.0384858 ,  0.20370194,  0.02188256,  0.1263484 ,  0.2039474 ,\n",
       "         -0.10021669, -0.0100714 , -0.34314808,  0.23130652,  0.14772657,\n",
       "         -0.32776466, -0.22771715,  0.05952805,  0.10810295,  0.1651937 ,\n",
       "         -0.17035174],\n",
       "        [-0.16692613,  0.35133657,  0.07042545, -0.02790359,  0.08909151,\n",
       "          0.28060713,  0.0091075 ,  0.10114291,  0.12272429, -0.03635958,\n",
       "          0.27461985,  0.1938043 , -0.10771613, -0.2670254 ,  0.29711404,\n",
       "         -0.20592047],\n",
       "        [-0.05703589, -0.17480928, -0.35241964, -0.20958751,  0.01171118,\n",
       "         -0.10037473,  0.33430478, -0.16109073, -0.1884974 , -0.29905978,\n",
       "         -0.26846632,  0.28387848, -0.12575853, -0.04538211, -0.1076594 ,\n",
       "         -0.13018866],\n",
       "        [-0.3082697 , -0.00207573, -0.3297711 ,  0.34088424,  0.27863035,\n",
       "          0.28434554,  0.23857686,  0.1920974 , -0.17728448,  0.08572271,\n",
       "         -0.18774693,  0.3042955 ,  0.06500605,  0.28700754, -0.27407834,\n",
       "         -0.31887233],\n",
       "        [ 0.09144121, -0.31000945, -0.04865187, -0.28557003,  0.09227464,\n",
       "          0.34002486,  0.16047958,  0.32366678, -0.2182658 ,  0.26755032,\n",
       "         -0.351135  ,  0.01237363,  0.1321854 , -0.23138425, -0.2178649 ,\n",
       "         -0.07837644],\n",
       "        [-0.07485053, -0.29677036,  0.2621099 , -0.15286392,  0.12920648,\n",
       "          0.00700641,  0.07665625,  0.04247475, -0.17524044, -0.27787223,\n",
       "         -0.13150668, -0.24723762,  0.3388985 , -0.13376878,  0.27420172,\n",
       "         -0.31275877],\n",
       "        [ 0.15103856,  0.18468174,  0.16815457, -0.20226753, -0.29587322,\n",
       "          0.23507413,  0.14980987, -0.03780279, -0.0684565 , -0.1962873 ,\n",
       "         -0.35124525,  0.3478482 , -0.21958187,  0.14548054,  0.32956907,\n",
       "          0.14153627],\n",
       "        [ 0.25948754, -0.11455809,  0.23645529,  0.24044636, -0.09497151,\n",
       "          0.35014394,  0.27233407,  0.2816871 ,  0.2911459 ,  0.04173011,\n",
       "          0.13600165, -0.04552037,  0.24267355, -0.29643944, -0.10816905,\n",
       "         -0.32752115],\n",
       "        [-0.20523088,  0.1295777 ,  0.26655164,  0.19499448, -0.01797631,\n",
       "          0.29853466,  0.06828758, -0.02773067,  0.08447576,  0.25586012,\n",
       "          0.28278586, -0.10372415, -0.07379931,  0.01119646,  0.26061478,\n",
       "         -0.2534301 ],\n",
       "        [ 0.23320255,  0.17277554, -0.12900214,  0.13511598,  0.27755865,\n",
       "          0.30482092, -0.2227728 , -0.30200458, -0.23354942,  0.33033732,\n",
       "          0.12729579, -0.1064363 ,  0.12462714, -0.2060738 ,  0.19087675,\n",
       "          0.17240682],\n",
       "        [ 0.2924489 ,  0.26648524,  0.18154755,  0.34110048, -0.32553163,\n",
       "         -0.17314279,  0.32868972,  0.23543164, -0.08240628, -0.33154827,\n",
       "         -0.23851812,  0.23906794,  0.3486884 , -0.2708429 ,  0.14362836,\n",
       "          0.18921652],\n",
       "        [-0.11635691, -0.2956807 , -0.1218752 ,  0.00679392, -0.01542911,\n",
       "         -0.15506424, -0.33808306, -0.2546482 , -0.21991627, -0.04742834,\n",
       "          0.00470537, -0.15209137, -0.1870391 , -0.23110288, -0.32651103,\n",
       "          0.30810365],\n",
       "        [-0.30118206,  0.2326738 ,  0.1228916 ,  0.27441487, -0.10502076,\n",
       "          0.30876848,  0.31378856,  0.22298858, -0.13688233,  0.18552163,\n",
       "         -0.00865561, -0.00829938,  0.30620977, -0.13364327,  0.07219931,\n",
       "         -0.26398534],\n",
       "        [-0.34573448,  0.10870802, -0.05806741, -0.12761332,  0.11728784,\n",
       "          0.13579452, -0.100025  , -0.24523464,  0.31523523,  0.16030654,\n",
       "         -0.14727542, -0.04677981,  0.02627173,  0.1981726 , -0.20464857,\n",
       "         -0.00886223],\n",
       "        [ 0.0079366 , -0.29929397,  0.00385508, -0.22593112, -0.03040516,\n",
       "         -0.13046227,  0.27168313,  0.02830684,  0.05018863, -0.04479399,\n",
       "          0.28459498, -0.01797757,  0.3248885 ,  0.14629787, -0.276214  ,\n",
       "         -0.03072262],\n",
       "        [ 0.04064482,  0.0823262 ,  0.03980592,  0.3180631 ,  0.2279326 ,\n",
       "          0.20561811,  0.08621931, -0.19436836,  0.16770366,  0.23463723,\n",
       "          0.3365765 , -0.08587885, -0.21016821, -0.3425056 ,  0.00823027,\n",
       "          0.3285856 ],\n",
       "        [ 0.08631861,  0.2048532 , -0.10792038, -0.08168632, -0.21998927,\n",
       "         -0.01578104, -0.01389456, -0.11978202, -0.04589793, -0.3444925 ,\n",
       "          0.01860335,  0.27651754,  0.2512317 ,  0.04154995, -0.09703848,\n",
       "          0.155058  ],\n",
       "        [ 0.17611954,  0.2628261 ,  0.15364286,  0.2735354 , -0.0019885 ,\n",
       "         -0.06151205,  0.079757  ,  0.03780377,  0.15924707, -0.1556569 ,\n",
       "          0.02511919,  0.21701708,  0.12868369,  0.18390164,  0.10119805,\n",
       "          0.3075945 ],\n",
       "        [-0.13624069,  0.2795349 ,  0.21616349,  0.1847342 , -0.26511708,\n",
       "         -0.15316679, -0.32111412, -0.1989633 , -0.04545191,  0.21151987,\n",
       "         -0.29538113, -0.06685349, -0.25115627,  0.07278389, -0.13495775,\n",
       "         -0.2796542 ],\n",
       "        [-0.01783243,  0.0979051 ,  0.16188505, -0.10315618,  0.0929676 ,\n",
       "          0.05763319, -0.21946976,  0.00716361, -0.2732005 , -0.17302032,\n",
       "         -0.00942984,  0.33008584, -0.11259261, -0.25368273, -0.0910452 ,\n",
       "          0.14765576],\n",
       "        [-0.17427781, -0.30733803,  0.33968744,  0.35222813, -0.03706124,\n",
       "         -0.10110193,  0.02236176, -0.210399  , -0.3027914 ,  0.03218973,\n",
       "          0.34117404, -0.03210098,  0.04836333, -0.08279741, -0.0805954 ,\n",
       "          0.2669702 ],\n",
       "        [-0.1085697 , -0.12351319,  0.12100789, -0.00983655,  0.03993693,\n",
       "         -0.08558095, -0.29753947, -0.00123641,  0.24579719,  0.26046112,\n",
       "          0.0821813 ,  0.2122142 ,  0.00667143,  0.09136459, -0.35343722,\n",
       "         -0.25837594],\n",
       "        [ 0.15735021, -0.19291548, -0.18414228, -0.06673229,  0.1838266 ,\n",
       "         -0.3376994 ,  0.310348  ,  0.20503733,  0.06674948,  0.1331119 ,\n",
       "         -0.19173293, -0.32355267,  0.33424088, -0.08204287, -0.1199522 ,\n",
       "         -0.3515429 ],\n",
       "        [-0.32745016,  0.07440352, -0.30292684,  0.1795781 ,  0.3062391 ,\n",
       "         -0.3383747 ,  0.17730942,  0.02302456,  0.01206902,  0.11855283,\n",
       "         -0.03791523,  0.01892173, -0.11360936, -0.30291775,  0.11992809,\n",
       "          0.11662117],\n",
       "        [-0.17388129,  0.27380505, -0.02683076,  0.0368779 ,  0.13192612,\n",
       "         -0.04048786, -0.2164732 , -0.01242471, -0.06177464,  0.11950967,\n",
       "         -0.17587054, -0.17023483,  0.16043559,  0.03992614,  0.20399848,\n",
       "          0.06014052],\n",
       "        [ 0.23946777,  0.33555827,  0.0805535 ,  0.1291619 , -0.21779105,\n",
       "          0.11925855,  0.14647827, -0.0345186 ,  0.22082427, -0.14404958,\n",
       "         -0.08187211, -0.28532887,  0.13179833, -0.01641282,  0.2916769 ,\n",
       "          0.18271664]], dtype=float32),\n",
       " array([0., 0., 0., 0., 0., 0., 0., 0., 0., 0., 0., 0., 0., 0., 0., 0.],\n",
       "       dtype=float32),\n",
       " array([[ 0.28385723,  0.27587384],\n",
       "        [ 0.10221618,  0.2014578 ],\n",
       "        [-0.36535597,  0.06060636],\n",
       "        [-0.31500006,  0.53104854],\n",
       "        [ 0.25765467, -0.48125374],\n",
       "        [ 0.02369839,  0.3864178 ],\n",
       "        [-0.34280294,  0.50157154],\n",
       "        [-0.41158125, -0.18782303],\n",
       "        [-0.01269746, -0.2923551 ],\n",
       "        [-0.51088256,  0.1438551 ],\n",
       "        [ 0.51163423,  0.28963017],\n",
       "        [ 0.03161985,  0.4464004 ],\n",
       "        [ 0.03218639,  0.4397204 ],\n",
       "        [ 0.53191936,  0.29625678],\n",
       "        [ 0.21412814, -0.17263696],\n",
       "        [ 0.525946  , -0.526698  ]], dtype=float32),\n",
       " array([0., 0.], dtype=float32)]"
      ]
     },
     "execution_count": 184,
     "metadata": {},
     "output_type": "execute_result"
    }
   ],
   "source": [
    "model_architecture.get_weights()"
   ]
  },
  {
   "cell_type": "code",
   "execution_count": 185,
   "metadata": {},
   "outputs": [],
   "source": [
    "model_architecture.optimizer"
   ]
  },
  {
   "cell_type": "markdown",
   "metadata": {},
   "source": [
    "Saving weights of the model\n",
    "If you only need to save weights of the model, then you can use the save_weights() function"
   ]
  },
  {
   "cell_type": "code",
   "execution_count": 187,
   "metadata": {},
   "outputs": [],
   "source": [
    "model.save_weights('models_save_weights_method/side_effects_test.h5')\n"
   ]
  },
  {
   "cell_type": "code",
   "execution_count": 190,
   "metadata": {},
   "outputs": [],
   "source": [
    "model2 = Sequential([\n",
    "    Dense(units = 32, input_shape=(1,), activation ='relu'),\n",
    "    Dense(units = 16, activation = 'relu'),\n",
    "    Dense(units = 2, activation = 'sigmoid')\n",
    "])\n",
    "\n",
    "    "
   ]
  },
  {
   "cell_type": "code",
   "execution_count": 193,
   "metadata": {},
   "outputs": [],
   "source": [
    "model2.load_weights('models_save_weights_method/side_effects_test.h5')"
   ]
  },
  {
   "cell_type": "code",
   "execution_count": 194,
   "metadata": {},
   "outputs": [
    {
     "data": {
      "text/plain": [
       "[array([[-0.30925405,  0.5026218 , -0.02858949, -0.25989753,  0.38869414,\n",
       "         -0.23818019,  0.40745148, -0.3958277 ,  0.3085991 , -0.2807597 ,\n",
       "          0.5568579 , -0.12849247, -0.16610834,  0.451434  , -0.06247264,\n",
       "         -0.07336959,  0.01063519, -0.14188063, -0.02484946, -0.35459754,\n",
       "         -0.3300044 ,  0.3866282 , -0.13286689,  0.10611599, -0.19768009,\n",
       "          0.3261449 ,  0.53574306,  0.32834566, -0.37237144, -0.29452628,\n",
       "         -0.33233255, -0.26317635]], dtype=float32),\n",
       " array([ 0.        , -0.23025656,  0.        ,  0.        , -0.11870354,\n",
       "         0.        , -0.09325945,  0.        , -0.1493143 ,  0.        ,\n",
       "        -0.1799691 ,  0.        ,  0.        , -0.20159177,  0.        ,\n",
       "         0.        ,  0.22731708,  0.        ,  0.09891705,  0.        ,\n",
       "         0.        , -0.18725543,  0.        ,  0.25413606,  0.        ,\n",
       "        -0.158925  , -0.21781121, -0.15941295,  0.        ,  0.        ,\n",
       "         0.        ,  0.        ], dtype=float32),\n",
       " array([[-0.04362923, -0.0430665 ,  0.27735373, -0.15991643, -0.155263  ,\n",
       "          0.17517951,  0.21487895,  0.15333274, -0.07894754,  0.25299713,\n",
       "         -0.02598801, -0.00620249,  0.2144961 ,  0.35187837, -0.27167082,\n",
       "         -0.08711493],\n",
       "        [ 0.21432124,  0.57635957, -0.7514807 ,  0.04977274,  0.319711  ,\n",
       "         -0.71642524,  0.2535783 ,  0.10123429, -0.3732278 , -0.5503611 ,\n",
       "         -0.23045546,  0.26729783, -0.45061174, -0.69971424,  0.30934185,\n",
       "          0.5851469 ],\n",
       "        [-0.30580682,  0.07715636, -0.11105433,  0.0517689 , -0.17068884,\n",
       "          0.06915388,  0.32851717,  0.3371649 , -0.14811954,  0.08001933,\n",
       "          0.31217352, -0.23306811, -0.234909  , -0.0952228 ,  0.04885292,\n",
       "          0.3070173 ],\n",
       "        [-0.03619629,  0.19459334,  0.3315442 , -0.3531238 , -0.32409805,\n",
       "         -0.33544365,  0.29103807,  0.17186913, -0.04153091,  0.05920073,\n",
       "          0.11151636,  0.1166538 ,  0.17177287, -0.21434522, -0.23986539,\n",
       "          0.295858  ],\n",
       "        [ 0.5246029 ,  0.2067447 , -0.21031791,  0.34054717, -0.05982157,\n",
       "         -0.08819178, -0.0060385 ,  0.38459602,  0.02128027, -0.6203271 ,\n",
       "         -0.20446526,  0.24020702,  0.05933851,  0.03221753,  0.38766953,\n",
       "          0.5424571 ],\n",
       "        [ 0.09917396,  0.28133914, -0.32569945,  0.12365007,  0.04682514,\n",
       "          0.00110501, -0.10998894, -0.30131328, -0.28902453, -0.31354573,\n",
       "         -0.30174825,  0.03060871, -0.18754682,  0.13404924, -0.23436783,\n",
       "         -0.11252113],\n",
       "        [-0.15607026,  0.5510019 , -0.26877952,  0.45952022,  0.12837854,\n",
       "         -0.24803044,  0.39206788,  0.02448109, -0.23849909, -0.0601998 ,\n",
       "         -0.1903036 ,  0.45064184, -0.05230089,  0.06205207,  0.45190006,\n",
       "          0.30922732],\n",
       "        [-0.1697825 ,  0.28146222,  0.08367506,  0.15934798, -0.31388476,\n",
       "         -0.2665885 ,  0.2646778 ,  0.26801613, -0.09562629,  0.00604874,\n",
       "          0.01038811,  0.18064639,  0.06422302,  0.16244337, -0.24630424,\n",
       "          0.31583455],\n",
       "        [ 0.35800305,  0.01971109, -0.29503495,  0.509504  ,  0.0330527 ,\n",
       "         -0.60395604,  0.516737  ,  0.54798836, -0.3411591 , -0.76808786,\n",
       "         -0.5201835 ,  0.16389532, -0.1885958 , -0.64215225,  0.07215335,\n",
       "          0.03718771],\n",
       "        [ 0.21818009, -0.2388939 , -0.15816253,  0.20280412, -0.24449807,\n",
       "          0.03934416,  0.05805838, -0.10106501, -0.14961845, -0.19081834,\n",
       "         -0.18457858,  0.22519138,  0.0613004 , -0.31582892, -0.2693572 ,\n",
       "         -0.06727293],\n",
       "        [ 0.11833639,  0.30107385, -0.4524516 ,  0.5450009 , -0.20503865,\n",
       "         -0.39557937,  0.4427047 ,  0.37116274,  0.28574935, -0.25867987,\n",
       "         -0.15909792,  0.12746242, -0.28650025, -0.20732065,  0.12338504,\n",
       "          0.51089084],\n",
       "        [-0.24307553,  0.27727798,  0.2902451 ,  0.07531828, -0.3344462 ,\n",
       "         -0.09186387, -0.0501169 ,  0.0432871 , -0.12992719,  0.08492875,\n",
       "          0.1536257 , -0.03442362,  0.17371556,  0.26324144,  0.07552993,\n",
       "         -0.121806  ],\n",
       "        [-0.05463353,  0.35151228, -0.16139925, -0.2497161 , -0.16987987,\n",
       "          0.07553297, -0.21561518, -0.2942532 ,  0.320605  , -0.10130569,\n",
       "          0.24808183, -0.26607406, -0.03787923, -0.09580728,  0.00476646,\n",
       "          0.29835078],\n",
       "        [ 0.02332938,  0.04441235, -0.39901787,  0.4889466 ,  0.17861125,\n",
       "         -0.5353432 ,  0.65372485,  0.51152915, -0.35618442, -0.48949736,\n",
       "         -0.4403647 ,  0.49455145, -0.22509083, -0.37980554,  0.3027868 ,\n",
       "          0.04508264],\n",
       "        [ 0.28158256,  0.17757395, -0.14872384,  0.1370737 , -0.20572896,\n",
       "          0.05370799, -0.22413449,  0.09114501, -0.08519489, -0.15537529,\n",
       "          0.0110859 , -0.0899525 ,  0.3352988 , -0.35185975, -0.02776399,\n",
       "          0.11751628],\n",
       "        [-0.05162534,  0.08499444,  0.35349992,  0.17056373, -0.05800056,\n",
       "         -0.29248405,  0.03845283, -0.28066587, -0.28527033, -0.14408827,\n",
       "         -0.12111159,  0.01836979,  0.06210649,  0.03685725,  0.14907351,\n",
       "          0.25490263],\n",
       "        [ 0.23646474, -0.200651  ,  0.30785993,  0.08842988,  0.11567416,\n",
       "          0.38462242,  0.31903   , -0.2128963 ,  0.11157648,  0.18942314,\n",
       "          0.3414843 , -0.1101488 , -0.07617325,  0.29202658,  0.23053147,\n",
       "          0.19561511],\n",
       "        [-0.33435315, -0.03624257, -0.24190183, -0.33995825,  0.08115849,\n",
       "          0.0172841 ,  0.28243485,  0.27140942, -0.04711673, -0.29511696,\n",
       "         -0.16633455,  0.09104875,  0.1881822 , -0.22714445, -0.08976242,\n",
       "         -0.01018116],\n",
       "        [ 0.12919359, -0.05198543,  0.34995785, -0.23873164, -0.09830357,\n",
       "          0.00895861, -0.19824713,  0.05320491, -0.06899352,  0.39788204,\n",
       "         -0.3533589 ,  0.31427008,  0.2562889 , -0.29525903, -0.17834516,\n",
       "         -0.25294566],\n",
       "        [ 0.1229668 , -0.27963558,  0.11123851,  0.25087783, -0.00918397,\n",
       "          0.17458913, -0.1418394 ,  0.03310332,  0.32433137,  0.1625056 ,\n",
       "          0.10853353,  0.00677115,  0.19041565, -0.21339859, -0.21097912,\n",
       "          0.14132166],\n",
       "        [-0.21269955, -0.15194006, -0.2901318 ,  0.14878586, -0.07615438,\n",
       "          0.21143708, -0.34224927,  0.3503714 , -0.2995206 ,  0.1868569 ,\n",
       "         -0.1790978 , -0.05105308, -0.10736243,  0.30312297, -0.00515658,\n",
       "         -0.00838494],\n",
       "        [ 0.26407808,  0.3423981 , -0.36996967,  0.45622897,  0.20333122,\n",
       "         -0.7166344 ,  0.18411477,  0.41491225,  0.15879297, -0.44972983,\n",
       "         -0.65191114, -0.04643818, -0.46446767, -0.69087833,  0.03326586,\n",
       "         -0.06207192],\n",
       "        [ 0.03257218,  0.2151663 , -0.26498002, -0.06971055,  0.00355694,\n",
       "          0.1112859 , -0.33810538, -0.12758432,  0.262646  , -0.3183267 ,\n",
       "          0.14431006, -0.28990382,  0.05243489,  0.27671245,  0.20041189,\n",
       "         -0.3029379 ],\n",
       "        [ 0.2033659 ,  0.07870815,  0.24173795, -0.08826287, -0.35944793,\n",
       "          0.30263725,  0.09128206,  0.22371717,  0.03121243,  0.25695997,\n",
       "          0.2806554 ,  0.10648292,  0.13064305,  0.21192743, -0.04333301,\n",
       "          0.07744998],\n",
       "        [-0.30080187, -0.33591282, -0.20813572, -0.19852033, -0.08190751,\n",
       "          0.1592218 ,  0.09973699, -0.10141072,  0.14025983, -0.08626348,\n",
       "          0.3532546 , -0.23718745, -0.10490805,  0.06537363,  0.22628358,\n",
       "          0.05050489],\n",
       "        [ 0.14326552,  0.58815306, -0.7059527 , -0.03898207, -0.35381752,\n",
       "         -0.41540086,  0.0386406 ,  0.5929825 , -0.0402342 , -0.8753036 ,\n",
       "         -0.8860147 ,  0.37398875, -0.47547734, -0.7598558 ,  0.5349727 ,\n",
       "          0.2418342 ],\n",
       "        [ 0.5193393 ,  0.4286558 , -0.56554896, -0.11250301, -0.10007315,\n",
       "         -0.16129738,  0.43862656,  0.4223497 , -0.06602181, -0.41550937,\n",
       "         -0.42380643,  0.49463198, -0.00932907, -0.4928444 ,  0.57565546,\n",
       "          0.48005974],\n",
       "        [ 0.52743256,  0.3442111 , -0.8735541 , -0.02644382,  0.32506013,\n",
       "         -0.75764847,  0.07021038,  0.42119133, -0.14655817, -0.6960045 ,\n",
       "         -0.71188915,  0.51835823, -0.49772972, -0.55172557,  0.68959343,\n",
       "          0.4721427 ],\n",
       "        [-0.20385596, -0.13964415,  0.05502996,  0.02620649,  0.0982818 ,\n",
       "          0.2683027 , -0.15485696,  0.042027  ,  0.02969903,  0.34904417,\n",
       "          0.21002719,  0.2224519 , -0.03347623,  0.05552444, -0.26287115,\n",
       "          0.03488308],\n",
       "        [-0.11690213, -0.01882556, -0.28387082,  0.03600067, -0.06384665,\n",
       "          0.3304592 ,  0.3210452 , -0.31333223, -0.09024298,  0.35281685,\n",
       "          0.31059715,  0.18743607,  0.23943529, -0.2206932 , -0.14334707,\n",
       "          0.13996783],\n",
       "        [ 0.24942371,  0.3387086 , -0.33289537,  0.05154586, -0.2815105 ,\n",
       "          0.15611133, -0.12656707, -0.11998364, -0.12900653, -0.05075601,\n",
       "          0.3301308 , -0.3230136 , -0.2572009 ,  0.26426092, -0.2732917 ,\n",
       "          0.308633  ],\n",
       "        [-0.16011529, -0.23509437, -0.02601066, -0.05639517,  0.22489187,\n",
       "          0.10399574, -0.19703878,  0.22495642,  0.06330338, -0.05986327,\n",
       "         -0.02102834,  0.17533997,  0.17199251, -0.28267014, -0.1848516 ,\n",
       "          0.04853159]], dtype=float32),\n",
       " array([-0.16924419, -0.08425573,  0.2650158 , -0.07272711, -0.01712821,\n",
       "         0.20008169, -0.1759102 , -0.09877156, -0.03119166,  0.26242572,\n",
       "         0.19865216, -0.13140686,  0.15127763,  0.20690739, -0.12645331,\n",
       "        -0.15060557], dtype=float32),\n",
       " array([[-0.33828354,  0.49477756],\n",
       "        [-0.14043759,  0.6549433 ],\n",
       "        [ 0.28748515, -1.1121745 ],\n",
       "        [-0.69677395,  0.7606015 ],\n",
       "        [ 0.53730446,  0.12392353],\n",
       "        [ 1.1192482 , -0.96278346],\n",
       "        [ 0.06906956,  0.6040722 ],\n",
       "        [-0.82568777,  0.5478418 ],\n",
       "        [-0.0284    ,  0.47124362],\n",
       "        [ 0.78163123, -0.4288808 ],\n",
       "        [ 0.48335996, -0.45439819],\n",
       "        [-0.05625102,  0.552881  ],\n",
       "        [ 0.71634406, -0.5556378 ],\n",
       "        [ 1.0169193 , -0.44806632],\n",
       "        [-0.70215595,  0.00960024],\n",
       "        [-0.46100375,  0.31671613]], dtype=float32),\n",
       " array([ 0.1276803 , -0.12768032], dtype=float32)]"
      ]
     },
     "execution_count": 194,
     "metadata": {},
     "output_type": "execute_result"
    }
   ],
   "source": [
    "model2.get_weights()"
   ]
  },
  {
   "cell_type": "code",
   "execution_count": null,
   "metadata": {},
   "outputs": [],
   "source": []
  }
 ],
 "metadata": {
  "kernelspec": {
   "display_name": "gpu1",
   "language": "python",
   "name": "python3"
  },
  "language_info": {
   "codemirror_mode": {
    "name": "ipython",
    "version": 3
   },
   "file_extension": ".py",
   "mimetype": "text/x-python",
   "name": "python",
   "nbconvert_exporter": "python",
   "pygments_lexer": "ipython3",
   "version": "3.9.18"
  }
 },
 "nbformat": 4,
 "nbformat_minor": 2
}
